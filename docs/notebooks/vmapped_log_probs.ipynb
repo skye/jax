{
  "nbformat": 4,
  "nbformat_minor": 0,
  "metadata": {
    "colab": {
      "name": "vmapped_log_probs.ipynb",
      "provenance": [],
      "collapsed_sections": []
    },
    "kernelspec": {
      "name": "python3",
      "display_name": "Python 3"
    },
    "accelerator": "GPU"
  },
  "cells": [
    {
      "cell_type": "markdown",
      "metadata": {
        "colab_type": "text",
        "id": "6umP1IKf4Dg6"
      },
      "source": [
        "# Autobatching log-densities example\n",
        "\n",
        "This notebook demonstrates a simple Bayesian inference example where autobatching makes user code easier to write, easier to read, and less likely to include bugs.\n",
        "\n",
        "Inspired by a notebook by @davmre."
      ]
    },
    {
      "cell_type": "code",
      "metadata": {
        "colab_type": "code",
        "id": "8RZDkfbV3zdR",
        "colab": {}
      },
      "source": [
        "import functools\n",
        "import itertools\n",
        "import re\n",
        "import sys\n",
        "import time\n",
        "\n",
        "from matplotlib.pyplot import *\n",
        "\n",
        "import jax\n",
        "\n",
        "from jax import lax\n",
        "from jax import numpy as np\n",
        "from jax import scipy\n",
        "from jax import random\n",
        "\n",
        "import numpy as onp\n",
        "import scipy as oscipy"
      ],
      "execution_count": 0,
      "outputs": []
    },
    {
      "cell_type": "markdown",
      "metadata": {
        "colab_type": "text",
        "id": "p2VcZS1d34C6"
      },
      "source": [
        "## Generate a fake binary classification dataset"
      ]
    },
    {
      "cell_type": "code",
      "metadata": {
        "colab_type": "code",
        "id": "pq41hMvn4c_i",
        "colab": {}
      },
      "source": [
        "onp.random.seed(10009)\n",
        "\n",
        "num_features = 10\n",
        "num_points = 100\n",
        "\n",
        "true_beta = onp.random.randn(num_features).astype(np.float32)\n",
        "all_x = onp.random.randn(num_points, num_features).astype(np.float32)\n",
        "y = (onp.random.rand(num_points) < oscipy.special.expit(all_x.dot(true_beta))).astype(np.int32)"
      ],
      "execution_count": 0,
      "outputs": []
    },
    {
      "cell_type": "code",
      "metadata": {
        "colab_type": "code",
        "id": "O0nVumAw7IlT",
        "outputId": "081bbe4b-e65c-4e03-f0ff-e025baeb6a9f",
        "colab": {
          "base_uri": "https://localhost:8080/",
          "height": 104
        }
      },
      "source": [
        "y"
      ],
      "execution_count": 3,
      "outputs": [
        {
          "output_type": "execute_result",
          "data": {
            "text/plain": [
              "array([0, 0, 0, 1, 1, 1, 0, 1, 1, 1, 1, 1, 0, 1, 0, 0, 0, 1, 1, 1, 1, 0,\n",
              "       1, 0, 0, 0, 0, 0, 1, 0, 1, 0, 0, 0, 1, 0, 0, 0, 1, 0, 0, 0, 0, 0,\n",
              "       1, 1, 0, 1, 0, 0, 0, 1, 1, 0, 0, 1, 0, 0, 0, 0, 0, 1, 1, 0, 0, 0,\n",
              "       0, 1, 1, 0, 0, 0, 1, 1, 1, 1, 1, 1, 0, 0, 0, 1, 1, 0, 1, 0, 1, 1,\n",
              "       1, 0, 1, 0, 0, 0, 0, 1, 0, 1, 0, 0], dtype=int32)"
            ]
          },
          "metadata": {
            "tags": []
          },
          "execution_count": 3
        }
      ]
    },
    {
      "cell_type": "markdown",
      "metadata": {
        "colab_type": "text",
        "id": "DZRVvhpn5aB1"
      },
      "source": [
        "## Write the log-joint function for the model\n",
        "\n",
        "We'll write a non-batched version, a manually batched version, and an autobatched version."
      ]
    },
    {
      "cell_type": "markdown",
      "metadata": {
        "colab_type": "text",
        "id": "C_mDXInL7nsP"
      },
      "source": [
        "### Non-batched"
      ]
    },
    {
      "cell_type": "code",
      "metadata": {
        "colab_type": "code",
        "id": "ZHyL2sJh5ajG",
        "colab": {}
      },
      "source": [
        "def log_joint(beta):\n",
        "    result = 0.\n",
        "    # Note that no `axis` parameter is provided to `np.sum`.\n",
        "    result = result + np.sum(scipy.stats.norm.logpdf(beta, loc=0., scale=1.))\n",
        "    result = result + np.sum(-np.log(1 + np.exp(-(2*y-1) * np.dot(all_x, beta))))\n",
        "    return result"
      ],
      "execution_count": 0,
      "outputs": []
    },
    {
      "cell_type": "code",
      "metadata": {
        "colab_type": "code",
        "id": "e51qW0ro6J7C",
        "outputId": "1074d0b9-7140-47a8-eedf-3ea2f2345e0c",
        "colab": {
          "base_uri": "https://localhost:8080/",
          "height": 35
        }
      },
      "source": [
        "log_joint(onp.random.randn(num_features))"
      ],
      "execution_count": 5,
      "outputs": [
        {
          "output_type": "execute_result",
          "data": {
            "text/plain": [
              "DeviceArray(-213.2356, dtype=float32)"
            ]
          },
          "metadata": {
            "tags": []
          },
          "execution_count": 5
        }
      ]
    },
    {
      "cell_type": "code",
      "metadata": {
        "colab_type": "code",
        "id": "fglQXK1Y6wnm",
        "outputId": "80ecc689-8d12-48ae-a2a9-899dc1d73a50",
        "colab": {
          "base_uri": "https://localhost:8080/",
          "height": 35
        }
      },
      "source": [
        "# This doesn't work, because we didn't write `log_prob()` to handle batching.\n",
        "try:\n",
        "  batch_size = 10\n",
        "  batched_test_beta = onp.random.randn(batch_size, num_features)\n",
        "\n",
        "  log_joint(onp.random.randn(batch_size, num_features))\n",
        "except ValueError as e:\n",
        "  print(\"Caught expected exception \" + str(e))"
      ],
      "execution_count": 6,
      "outputs": [
        {
          "output_type": "stream",
          "text": [
            "Caught expected exception Incompatible shapes for broadcasting: ((100, 10), (1, 100))\n"
          ],
          "name": "stdout"
        }
      ]
    },
    {
      "cell_type": "markdown",
      "metadata": {
        "colab_type": "text",
        "id": "_lQ8MnKq7sLU"
      },
      "source": [
        "### Manually batched"
      ]
    },
    {
      "cell_type": "code",
      "metadata": {
        "colab_type": "code",
        "id": "2g5-4bQE7gRA",
        "colab": {}
      },
      "source": [
        "def batched_log_joint(beta):\n",
        "    result = 0.\n",
        "    # Here (and below) `sum` needs an `axis` parameter. At best, forgetting to set axis\n",
        "    # or setting it incorrectly yields an error; at worst, it silently changes the\n",
        "    # semantics of the model.\n",
        "    result = result + np.sum(scipy.stats.norm.logpdf(beta, loc=0., scale=1.),\n",
        "                           axis=-1)\n",
        "    # Note the multiple transposes. Getting this right is not rocket science,\n",
        "    # but it's also not totally mindless. (I didn't get it right on the first\n",
        "    # try.)\n",
        "    result = result + np.sum(-np.log(1 + np.exp(-(2*y-1) * np.dot(all_x, beta.T).T)),\n",
        "                           axis=-1)\n",
        "    return result"
      ],
      "execution_count": 0,
      "outputs": []
    },
    {
      "cell_type": "code",
      "metadata": {
        "colab_type": "code",
        "id": "KdDMr-Gy85CO",
        "outputId": "226dd1aa-1e43-4b8f-aa4a-a12ed96262a0",
        "colab": {
          "base_uri": "https://localhost:8080/",
          "height": 52
        }
      },
      "source": [
        "batch_size = 10\n",
        "batched_test_beta = onp.random.randn(batch_size, num_features)\n",
        "\n",
        "batched_log_joint(batched_test_beta)"
      ],
      "execution_count": 8,
      "outputs": [
        {
          "output_type": "execute_result",
          "data": {
            "text/plain": [
              "DeviceArray([-147.84033, -207.02205, -109.26076, -243.80832, -163.0291 ,\n",
              "             -143.8485 , -160.28772, -113.7717 , -126.60544, -190.81992],            dtype=float32)"
            ]
          },
          "metadata": {
            "tags": []
          },
          "execution_count": 8
        }
      ]
    },
    {
      "cell_type": "markdown",
      "metadata": {
        "colab_type": "text",
        "id": "-uuGlHQ_85kd"
      },
      "source": [
        "### Autobatched with vmap\n",
        "\n",
        "It just works."
      ]
    },
    {
      "cell_type": "code",
      "metadata": {
        "colab_type": "code",
        "id": "SU20bouH8-Za",
        "outputId": "6a4ff4db-2b43-43da-bd24-895a23f82639",
        "colab": {
          "base_uri": "https://localhost:8080/",
          "height": 52
        }
      },
      "source": [
        "vmap_batched_log_joint = jax.vmap(log_joint)\n",
        "vmap_batched_log_joint(batched_test_beta)"
      ],
      "execution_count": 9,
      "outputs": [
        {
          "output_type": "execute_result",
          "data": {
            "text/plain": [
              "DeviceArray([-147.84033, -207.02205, -109.26076, -243.80832, -163.0291 ,\n",
              "             -143.8485 , -160.28772, -113.7717 , -126.60544, -190.81992],            dtype=float32)"
            ]
          },
          "metadata": {
            "tags": []
          },
          "execution_count": 9
        }
      ]
    },
    {
      "cell_type": "markdown",
      "metadata": {
        "colab_type": "text",
        "id": "L1KNBo9y_yZJ"
      },
      "source": [
        "## Self-contained variational inference example\n",
        "\n",
        "A little code is copied from above."
      ]
    },
    {
      "cell_type": "markdown",
      "metadata": {
        "colab_type": "text",
        "id": "lQTPaaQMJh8Y"
      },
      "source": [
        "### Set up the (batched) log-joint function"
      ]
    },
    {
      "cell_type": "code",
      "metadata": {
        "colab_type": "code",
        "id": "AITXbaofA3Pm",
        "colab": {}
      },
      "source": [
        "@jax.jit\n",
        "def log_joint(beta):\n",
        "    result = 0.\n",
        "    # Note that no `axis` parameter is provided to `np.sum`.\n",
        "    result = result + np.sum(scipy.stats.norm.logpdf(beta, loc=0., scale=10.))\n",
        "    result = result + np.sum(-np.log(1 + np.exp(-(2*y-1) * np.dot(all_x, beta))))\n",
        "    return result\n",
        "\n",
        "batched_log_joint = jax.jit(jax.vmap(log_joint))"
      ],
      "execution_count": 0,
      "outputs": []
    },
    {
      "cell_type": "markdown",
      "metadata": {
        "colab_type": "text",
        "id": "UmmFMQ8LJk6a"
      },
      "source": [
        "### Define the ELBO and its gradient"
      ]
    },
    {
      "cell_type": "code",
      "metadata": {
        "colab_type": "code",
        "id": "MJtnskL6BKwV",
        "colab": {}
      },
      "source": [
        "def elbo(beta_loc, beta_log_scale, epsilon):\n",
        "    beta_sample = beta_loc + np.exp(beta_log_scale) * epsilon\n",
        "    return np.mean(batched_log_joint(beta_sample), 0) + np.sum(beta_log_scale - 0.5 * onp.log(2*onp.pi))\n",
        " \n",
        "elbo = jax.jit(elbo, static_argnums=(1, 2))\n",
        "elbo_val_and_grad = jax.jit(jax.value_and_grad(elbo, argnums=(0, 1)))"
      ],
      "execution_count": 0,
      "outputs": []
    },
    {
      "cell_type": "markdown",
      "metadata": {
        "colab_type": "text",
        "id": "oQC7xKYnJrp5"
      },
      "source": [
        "### Optimize the ELBO using SGD"
      ]
    },
    {
      "cell_type": "code",
      "metadata": {
        "colab_type": "code",
        "id": "9JrD5nNgH715",
        "outputId": "32c14e92-7dc8-4017-fbdc-809e4900ab9f",
        "colab": {
          "base_uri": "https://localhost:8080/",
          "height": 1000
        }
      },
      "source": [
        "def normal_sample(key, shape):\n",
        "    \"\"\"Convenience function for quasi-stateful RNG.\"\"\"\n",
        "    new_key, sub_key = random.split(key)\n",
        "    return new_key, random.normal(sub_key, shape)\n",
        "\n",
        "normal_sample = jax.jit(normal_sample, static_argnums=(1,))\n",
        "\n",
        "key = random.PRNGKey(10003)\n",
        "\n",
        "beta_loc = np.zeros(num_features, np.float32)\n",
        "beta_log_scale = np.zeros(num_features, np.float32)\n",
        "\n",
        "step_size = 0.01\n",
        "batch_size = 128\n",
        "epsilon_shape = (batch_size, num_features)\n",
        "for i in range(1000):\n",
        "    key, epsilon = normal_sample(key, epsilon_shape)\n",
        "    elbo_val, (beta_loc_grad, beta_log_scale_grad) = elbo_val_and_grad(\n",
        "        beta_loc, beta_log_scale, epsilon)\n",
        "    beta_loc += step_size * beta_loc_grad\n",
        "    beta_log_scale += step_size * beta_log_scale_grad\n",
        "    if i % 10 == 0:\n",
        "        print('{}\\t{}'.format(i, elbo_val))"
      ],
      "execution_count": 12,
      "outputs": [
        {
          "output_type": "stream",
          "text": [
            "0\t-180.8538818359375\n",
            "10\t-113.06045532226562\n",
            "20\t-102.73727416992188\n",
            "30\t-99.787353515625\n",
            "40\t-98.90898132324219\n",
            "50\t-98.2974624633789\n",
            "60\t-98.18632507324219\n",
            "70\t-97.57972717285156\n",
            "80\t-97.28599548339844\n",
            "90\t-97.46996307373047\n",
            "100\t-97.4771728515625\n",
            "110\t-97.5806655883789\n",
            "120\t-97.4943618774414\n",
            "130\t-97.50271606445312\n",
            "140\t-96.86396026611328\n",
            "150\t-97.44197845458984\n",
            "160\t-97.06941223144531\n",
            "170\t-96.84027862548828\n",
            "180\t-97.21337127685547\n",
            "190\t-97.56501770019531\n",
            "200\t-97.26397705078125\n",
            "210\t-97.11978912353516\n",
            "220\t-97.39594268798828\n",
            "230\t-97.16831970214844\n",
            "240\t-97.118408203125\n",
            "250\t-97.24346160888672\n",
            "260\t-97.29788970947266\n",
            "270\t-96.69286346435547\n",
            "280\t-96.96438598632812\n",
            "290\t-97.30055236816406\n",
            "300\t-96.63591766357422\n",
            "310\t-97.03518676757812\n",
            "320\t-97.52908325195312\n",
            "330\t-97.28811645507812\n",
            "340\t-97.0732192993164\n",
            "350\t-97.15618896484375\n",
            "360\t-97.25881958007812\n",
            "370\t-97.19514465332031\n",
            "380\t-97.13092041015625\n",
            "390\t-97.11727905273438\n",
            "400\t-96.938720703125\n",
            "410\t-97.26676940917969\n",
            "420\t-97.35322570800781\n",
            "430\t-97.21007537841797\n",
            "440\t-97.28434753417969\n",
            "450\t-97.16307830810547\n",
            "460\t-97.2612533569336\n",
            "470\t-97.21343231201172\n",
            "480\t-97.23998260498047\n",
            "490\t-97.14913177490234\n",
            "500\t-97.23527526855469\n",
            "510\t-96.93419647216797\n",
            "520\t-97.21208953857422\n",
            "530\t-96.82576751708984\n",
            "540\t-97.01285552978516\n",
            "550\t-96.94175720214844\n",
            "560\t-97.16519927978516\n",
            "570\t-97.2916488647461\n",
            "580\t-97.42941284179688\n",
            "590\t-97.24370574951172\n",
            "600\t-97.15222930908203\n",
            "610\t-97.49844360351562\n",
            "620\t-96.9906997680664\n",
            "630\t-96.88956451416016\n",
            "640\t-96.89968872070312\n",
            "650\t-97.137939453125\n",
            "660\t-97.43705749511719\n",
            "670\t-96.99235534667969\n",
            "680\t-97.15623474121094\n",
            "690\t-97.1869125366211\n",
            "700\t-97.11160278320312\n",
            "710\t-97.78105163574219\n",
            "720\t-97.23226165771484\n",
            "730\t-97.16206359863281\n",
            "740\t-96.99581909179688\n",
            "750\t-96.66722106933594\n",
            "760\t-97.16795349121094\n",
            "770\t-97.51435089111328\n",
            "780\t-97.28900146484375\n",
            "790\t-96.91226196289062\n",
            "800\t-97.1709976196289\n",
            "810\t-97.29048156738281\n",
            "820\t-97.16242218017578\n",
            "830\t-97.1910629272461\n",
            "840\t-97.56382751464844\n",
            "850\t-97.00193786621094\n",
            "860\t-96.86555480957031\n",
            "870\t-96.76338195800781\n",
            "880\t-96.83660888671875\n",
            "890\t-97.12178039550781\n",
            "900\t-97.09554290771484\n",
            "910\t-97.06825256347656\n",
            "920\t-97.11947631835938\n",
            "930\t-96.87930297851562\n",
            "940\t-97.45625305175781\n",
            "950\t-96.69280242919922\n",
            "960\t-97.29376220703125\n",
            "970\t-97.3353042602539\n",
            "980\t-97.34961700439453\n",
            "990\t-97.09675598144531\n"
          ],
          "name": "stdout"
        }
      ]
    },
    {
      "cell_type": "markdown",
      "metadata": {
        "colab_type": "text",
        "id": "b3ZAe5fJJ2KM"
      },
      "source": [
        "### Display the results\n",
        "\n",
        "Coverage isn't quite as good as we might like, but it's not bad, and nobody said variational inference was exact."
      ]
    },
    {
      "cell_type": "code",
      "metadata": {
        "colab_type": "code",
        "id": "zt1NBLoVHtOG",
        "outputId": "ad81cc61-ccab-4c06-c3ec-50351261379b",
        "colab": {
          "base_uri": "https://localhost:8080/",
          "height": 459
        }
      },
      "source": [
        "figure(figsize=(7, 7))\n",
        "plot(true_beta, beta_loc, '.', label='Approximated Posterior Means')\n",
        "plot(true_beta, beta_loc + 2*np.exp(beta_log_scale), 'r.', label='Approximated Posterior $2\\sigma$ Error Bars')\n",
        "plot(true_beta, beta_loc - 2*np.exp(beta_log_scale), 'r.')\n",
        "plot_scale = 3\n",
        "plot([-plot_scale, plot_scale], [-plot_scale, plot_scale], 'k')\n",
        "xlabel('True beta')\n",
        "ylabel('Estimated beta')\n",
        "legend(loc='best')"
      ],
      "execution_count": 13,
      "outputs": [
        {
          "output_type": "execute_result",
          "data": {
            "text/plain": [
              "<matplotlib.legend.Legend at 0x7fd296243f60>"
            ]
          },
          "metadata": {
            "tags": []
          },
          "execution_count": 13
        },
        {
          "output_type": "display_data",
          "data": {
            "image/png": "[encoded data removed]",
            "text/plain": [
              "<Figure size 504x504 with 1 Axes>"
            ]
          },
          "metadata": {
            "tags": []
          }
        }
      ]
    },
    {
      "cell_type": "code",
      "metadata": {
        "colab_type": "code",
        "id": "_bXdOlvUEJl0",
        "colab": {}
      },
      "source": [
        ""
      ],
      "execution_count": 0,
      "outputs": []
    }
  ]
}